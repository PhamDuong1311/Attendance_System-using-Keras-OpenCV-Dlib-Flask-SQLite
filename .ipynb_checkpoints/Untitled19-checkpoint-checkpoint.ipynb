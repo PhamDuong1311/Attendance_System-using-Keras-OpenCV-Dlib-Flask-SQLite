{
 "cells": [
  {
   "cell_type": "code",
   "execution_count": 4,
   "metadata": {},
   "outputs": [],
   "source": [
    "import cv2 \n",
    "import time"
   ]
  },
  {
   "cell_type": "code",
   "execution_count": null,
   "metadata": {},
   "outputs": [],
   "source": [
    "\n",
    "num_images = 10\n",
    "adjustment_time = 25\n",
    "cap = cv2.VideoCapture(0)\n",
    "time.sleep(adjustment_time)\n",
    "\n"
   ]
  },
  {
   "cell_type": "code",
   "execution_count": null,
   "metadata": {},
   "outputs": [],
   "source": [
    " for i in range(num_images):\n",
    "   \n",
    "    ret, frame = cap.read()\n",
    "\n",
    "    instruction = f\"Chụp ảnh {i+1}/10. Nhấn phím 'Enter' để tiếp tục.\"\n",
    "    if  i < 7:\n",
    "         cv2.putText(frame, \"nhin thang\", (50, 50), cv2.FONT_HERSHEY_TRIPLEX, 1, (0, 255, 0), 2)  \n",
    "    elif 7 <= i < 9:\n",
    "         cv2.putText(frame, \"quay trai\", (50, 50), cv2.FONT_HERSHEY_TRIPLEX, 1, (0, 255, 0), 2)    \n",
    "    else:\n",
    "         cv2.putText(frame, \"quay phai\", (50, 50), cv2.FONT_HERSHEY_TRIPLEX, 1, (0, 255, 0), 2)\n",
    "    \n",
    "    cv2.imshow(\"Camera\", frame)\n",
    "    time.sleep(adjustment_time)\n",
    "\n",
    "   \n",
    "    while cv2.waitKey(0) != 13:  \n",
    "        pass\n",
    "        cv2.imwrite('images', frame)\n",
    "cap.release()\n",
    "cv2.destroyAllWindows()\n"
   ]
  },
  {
   "cell_type": "code",
   "execution_count": null,
   "metadata": {},
   "outputs": [],
   "source": []
  }
 ],
 "metadata": {
  "kernelspec": {
   "display_name": "Python 3 (ipykernel)",
   "language": "python",
   "name": "python3"
  },
  "language_info": {
   "codemirror_mode": {
    "name": "ipython",
    "version": 3
   },
   "file_extension": ".py",
   "mimetype": "text/x-python",
   "name": "python",
   "nbconvert_exporter": "python",
   "pygments_lexer": "ipython3",
   "version": "3.11.4"
  }
 },
 "nbformat": 4,
 "nbformat_minor": 2
}
