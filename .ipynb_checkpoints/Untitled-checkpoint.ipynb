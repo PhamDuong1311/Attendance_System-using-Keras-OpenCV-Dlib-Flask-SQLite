{
 "cells": [
  {
   "cell_type": "code",
   "execution_count": 12,
   "id": "7ce283dd",
   "metadata": {},
   "outputs": [],
   "source": [
    "import cv2\n",
    "import pickle\n",
    "import embedded_model\n",
    "from sklearn.preprocessing import LabelEncoder\n",
    "import numpy as np\n",
    "import os\n",
    "import json\n",
    "from Threshold import opt_tau\n",
    "def distance(emb1, emb2):\n",
    "    return np.sum(np.square(emb1 - emb2))\n",
    "\n",
    "path = 'data'\n",
    "data = []\n",
    "for i in sorted(os.listdir(path)):\n",
    "    with open(os.path.join(path,i), 'r') as file:\n",
    "        data.append(json.load(file))\n",
    "vector = np.array([])\n",
    "name=np.array([])\n",
    "for i,n in enumerate(data):\n",
    "    vector_list= json.loads(data[i]['vector'])\n",
    "    numpy_array = np.array(vector_list)\n",
    "    \n",
    "    for j in numpy_array:\n",
    "        if vector.size == 0:\n",
    "            vector=j\n",
    "            name = data[i]['name']\n",
    "        else:\n",
    "            vector=np.vstack((vector,j))\n",
    "            name=np.hstack((name,data[i]['name']))\n",
    "\n",
    "def nguoiquen(x):\n",
    "    k=0\n",
    "    for i in vector:\n",
    "        if distance(x,i) < 0.24:\n",
    "            k+=1\n",
    "            if k>=1:\n",
    "                return True\n",
    "    return False\n",
    "\n",
    "def check(path1):\n",
    "    with open('svm_model.pkl', 'rb') as file:\n",
    "        svm = pickle.load(file)\n",
    "    path = 'data'\n",
    "    data = []\n",
    "    for i in sorted(os.listdir(path)):\n",
    "        with open(os.path.join(path,i), 'r') as file:\n",
    "            data.append(json.load(file))\n",
    "    name=np.array([])\n",
    "    k=0\n",
    "    for i,n in enumerate(data):\n",
    "        for j in range(5):\n",
    "            if not k:\n",
    "                name = data[i]['name']\n",
    "                k=k+1\n",
    "            else:\n",
    "                name=np.hstack((name,data[i]['name']))\n",
    "    encoder = LabelEncoder()\n",
    "    encoder.fit(name)\n",
    "    img= cv2.imread(path1)\n",
    "    anhdep = cv2.cvtColor(img, cv2.COLOR_BGR2RGB)\n",
    "    anh_embedded= embedded_model.embedded(anhdep)\n",
    "    if anh_embedded is False:\n",
    "        cap = 'Vui lòng đưa mặt vào giữa camera'\n",
    "        return  cap \n",
    "    if not nguoiquen(anh_embedded):\n",
    "        cap = 'Tôi chưa gặp người này bao giờ'\n",
    "        return cap    \n",
    "    example_prediction = svm.predict([anh_embedded])\n",
    "    anh_embedded = anh_embedded.reshape(1, -1)\n",
    "    example_identity = encoder.inverse_transform(example_prediction)[0]\n",
    "    cap = f'{example_identity} đúng không?'\n",
    "    return cap\n"
   ]
  },
  {
   "cell_type": "code",
   "execution_count": 13,
   "id": "71cdc1bc",
   "metadata": {},
   "outputs": [
    {
     "ename": "NameError",
     "evalue": "name 'validation_data' is not defined",
     "output_type": "error",
     "traceback": [
      "\u001b[1;31m---------------------------------------------------------------------------\u001b[0m",
      "\u001b[1;31mNameError\u001b[0m                                 Traceback (most recent call last)",
      "Cell \u001b[1;32mIn[13], line 25\u001b[0m\n\u001b[0;32m     21\u001b[0m     \u001b[38;5;28;01mreturn\u001b[39;00m optimal_threshold\n\u001b[0;32m     23\u001b[0m \u001b[38;5;66;03m# Validation data is a list of validation images\u001b[39;00m\n\u001b[0;32m     24\u001b[0m \u001b[38;5;66;03m# 'embeddings' is a list of embeddings from your dataset\u001b[39;00m\n\u001b[1;32m---> 25\u001b[0m optimal_threshold \u001b[38;5;241m=\u001b[39m find_optimal_threshold(\u001b[43mvalidation_data\u001b[49m, embeddings, distance, step\u001b[38;5;241m=\u001b[39m\u001b[38;5;241m0.01\u001b[39m)\n\u001b[0;32m     26\u001b[0m \u001b[38;5;28mprint\u001b[39m(\u001b[38;5;124m\"\u001b[39m\u001b[38;5;124mOptimal Threshold:\u001b[39m\u001b[38;5;124m\"\u001b[39m, optimal_threshold)\n",
      "\u001b[1;31mNameError\u001b[0m: name 'validation_data' is not defined"
     ]
    }
   ],
   "source": [
    "import numpy as np\n",
    "\n",
    "def find_optimal_threshold(data, embeddings, distance_func, step=0.01):\n",
    "    thresholds = np.arange(0, 1, step)\n",
    "    accuracies = []\n",
    "\n",
    "    for threshold in thresholds:\n",
    "        correct = 0\n",
    "        total = 0\n",
    "        for i, validation_image in enumerate(data):\n",
    "            embedding = embedded_model.embedded(validation_image)  # Calculate embedding for validation image\n",
    "            if embedding is not False:\n",
    "                min_distance = min(distance_func(embedding, emb) for emb in embeddings)\n",
    "                if min_distance <= threshold:\n",
    "                    correct += 1\n",
    "                total += 1\n",
    "        accuracy = correct / total\n",
    "        accuracies.append(accuracy)\n",
    "\n",
    "    optimal_threshold = thresholds[np.argmax(accuracies)]\n",
    "    return optimal_threshold\n",
    "\n",
    "# Validation data is a list of validation images\n",
    "# 'embeddings' is a list of embeddings from your dataset\n",
    "optimal_threshold = find_optimal_threshold(validation_data, embeddings, distance, step=0.01)\n",
    "print(\"Optimal Threshold:\", optimal_threshold)\n"
   ]
  },
  {
   "cell_type": "code",
   "execution_count": 7,
   "id": "f7c7413a",
   "metadata": {},
   "outputs": [
    {
     "data": {
      "image/png": "[encoded data removed]",
      "text/plain": [
       "<Figure size 640x480 with 1 Axes>"
      ]
     },
     "metadata": {},
     "output_type": "display_data"
    }
   ],
   "source": [
    "from sklearn.manifold import TSNE\n",
    "import matplotlib.pyplot as plt\n",
    "X_embedded = TSNE(n_components=2).fit_transform(vector)\n",
    "\n",
    "for i, t in enumerate(set(name)):\n",
    "    idx = name == t\n",
    "    plt.scatter(X_embedded[idx, 0], X_embedded[idx, 1], label=t)   \n",
    "\n",
    "plt.legend(bbox_to_anchor=(1, 1));"
   ]
  },
  {
   "cell_type": "code",
   "execution_count": null,
   "id": "b55445a9",
   "metadata": {},
   "outputs": [],
   "source": []
  }
 ],
 "metadata": {
  "kernelspec": {
   "display_name": "Python 3 (ipykernel)",
   "language": "python",
   "name": "python3"
  },
  "language_info": {
   "codemirror_mode": {
    "name": "ipython",
    "version": 3
   },
   "file_extension": ".py",
   "mimetype": "text/x-python",
   "name": "python",
   "nbconvert_exporter": "python",
   "pygments_lexer": "ipython3",
   "version": "3.11.4"
  }
 },
 "nbformat": 4,
 "nbformat_minor": 5
}
